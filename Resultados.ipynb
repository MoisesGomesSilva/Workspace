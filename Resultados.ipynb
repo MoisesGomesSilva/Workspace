{
 "cells": [
  {
   "cell_type": "code",
   "execution_count": 50,
   "id": "5442c309",
   "metadata": {},
   "outputs": [
    {
     "data": {
      "text/html": [
       "<div>\n",
       "<style scoped>\n",
       "    .dataframe tbody tr th:only-of-type {\n",
       "        vertical-align: middle;\n",
       "    }\n",
       "\n",
       "    .dataframe tbody tr th {\n",
       "        vertical-align: top;\n",
       "    }\n",
       "\n",
       "    .dataframe thead th {\n",
       "        text-align: right;\n",
       "    }\n",
       "</style>\n",
       "<table border=\"1\" class=\"dataframe\">\n",
       "  <thead>\n",
       "    <tr style=\"text-align: right;\">\n",
       "      <th></th>\n",
       "      <th>Candidato</th>\n",
       "      <th>Cel</th>\n",
       "    </tr>\n",
       "  </thead>\n",
       "  <tbody>\n",
       "    <tr>\n",
       "      <th>0</th>\n",
       "      <td>Moisés Silva</td>\n",
       "      <td>11964682090</td>\n",
       "    </tr>\n",
       "  </tbody>\n",
       "</table>\n",
       "</div>"
      ],
      "text/plain": [
       "      Candidato          Cel\n",
       "0  Moisés Silva  11964682090"
      ]
     },
     "metadata": {},
     "output_type": "display_data"
    },
    {
     "name": "stdout",
     "output_type": "stream",
     "text": [
      "Olá, Daniel\n",
      "\n",
      "Conforme solicitado, segue respostas referentes ao Case Entrevista Analista Pleno de Fulfillment Design.\n",
      "Em caso de qualquer dúvida, fico à disposição.\n",
      "\n",
      "Att,\n",
      "\n",
      "Moisés Silva\n"
     ]
    }
   ],
   "source": [
    "import pandas as pd\n",
    "\n",
    "tabela = pd.DataFrame(\n",
    "    {\"Candidato\": [\"Moisés Silva\"],\n",
    "     \"Cel\": [11964682090]}\n",
    ")\n",
    "display(tabela)\n",
    "\n",
    "print(\"Olá, Daniel\\n\" \"\\nConforme solicitado, segue respostas referentes ao Case Entrevista Analista Pleno de Fulfillment Design.\" \"\\nEm caso de qualquer dúvida, fico à disposição.\" \"\\n\" \"\\nAtt,\" \"\\n\" \"\\nMoisés Silva\"\n",
    ")"
   ]
  },
  {
   "cell_type": "code",
   "execution_count": null,
   "id": "a66ee1c0",
   "metadata": {},
   "outputs": [
    {
     "name": "stdout",
     "output_type": "stream",
     "text": [
      "Top 5 produtos com maior estoque médio diário:\n",
      "id_produto\n",
      "20    524.976776\n",
      "15    516.900273\n",
      "38    496.234973\n",
      "51    467.736339\n",
      "59    431.617486\n",
      "Name: quantidade_estoque, dtype: float64\n"
     ]
    }
   ],
   "source": [
    "import pandas as pd\n",
    "\n",
    "# Diretório CSV\n",
    "file_path = \"estoque.csv\"\n",
    "\n",
    "# Load values\n",
    "df = pd.read_csv(file_path)\n",
    "\n",
    "# Cálculo estoque médio diário p/ produto (considerando todas as lojas)\n",
    "media_estoque = df.groupby('id_produto')['quantidade_estoque'].mean()\n",
    "\n",
    "# Ordem e seleção dos 5 produtos com maior estoque médio\n",
    "top_5_produtos = media_estoque.sort_values(ascending=False).head(5)\n",
    "\n",
    "# Painel de resultados\n",
    "print(\"Top 5 produtos com maior estoque médio diário:\")\n",
    "print(top_5_produtos)"
   ]
  },
  {
   "cell_type": "code",
   "execution_count": 2,
   "id": "c835dee0",
   "metadata": {},
   "outputs": [
    {
     "name": "stdout",
     "output_type": "stream",
     "text": [
      "Distribuição total de vendas por dia da semana:\n",
      "dia_semana\n",
      "Monday       430965\n",
      "Tuesday      435212\n",
      "Wednesday    408410\n",
      "Thursday     407530\n",
      "Friday       304024\n",
      "Saturday     504860\n",
      "Sunday       431876\n",
      "Name: quantidade, dtype: int64\n"
     ]
    }
   ],
   "source": [
    "import pandas as pd\n",
    "\n",
    "# Diretório CSV\n",
    "file_path = \"vendas.csv\"\n",
    "vendas_df = pd.read_csv(file_path)\n",
    "\n",
    "# Converter a coluna de data e hora para o tipo datetime\n",
    "vendas_df[\"data_hora\"] = pd.to_datetime(vendas_df[\"data_hora\"])\n",
    "\n",
    "# Criar uma nova coluna com o nome do dia da semana\n",
    "vendas_df[\"dia_semana\"] = vendas_df[\"data_hora\"].dt.day_name()\n",
    "\n",
    "# Definir a ordem correta dos dias da semana (segunda a domingo)\n",
    "ordem_dias = [\"Monday\", \"Tuesday\", \"Wednesday\", 'Thursday', \"Friday\", \"Saturday\", \"Sunday\"]\n",
    "\n",
    "# Agrupamento por coluna 'dia_semana' e soma de qtd vendida\n",
    "vendas_por_dia = vendas_df.groupby(\"dia_semana\")[\"quantidade\"].sum()\n",
    "\n",
    "# Reordenar os resultados conforme a semana\n",
    "vendas_por_dia = vendas_por_dia.reindex(ordem_dias)\n",
    "\n",
    "# Painel de resultados\n",
    "print(\"Distribuição total de vendas por dia da semana:\")\n",
    "print(vendas_por_dia)"
   ]
  },
  {
   "cell_type": "code",
   "execution_count": 3,
   "id": "fd927acc",
   "metadata": {},
   "outputs": [
    {
     "name": "stdout",
     "output_type": "stream",
     "text": [
      "                    valor_total_reais  quantidade_vendas_unicas\n",
      "categoria                                                      \n",
      "Biscoitos e Snacks         2846996.99                     17340\n",
      "Hortifruti                 2384768.62                     17625\n",
      "Cuidado Pessoal            2266079.35                     17426\n",
      "Bebidas                    2089071.26                     17481\n",
      "Enlatados                  2087116.59                     17258\n",
      "Carnes                     1977703.58                     17419\n",
      "Limpeza                    1654107.14                     17407\n",
      "Frios e Embutidos          1626029.76                     17420\n",
      "Laticínios                 1511943.36                     17480\n",
      "Grãos e Cereais            1465843.81                     17361\n",
      "Congelados                 1427983.05                     17308\n",
      "Padaria                    1321299.43                     17463\n"
     ]
    }
   ],
   "source": [
    "import pandas as pd\n",
    "\n",
    "# Diretório CSV\n",
    "vendas_df = pd.read_csv(\"vendas.csv\")\n",
    "produtos_df = pd.read_csv(\"produtos.csv\")\n",
    "\n",
    "# Converter a coluna de data e hora para datetime\n",
    "vendas_df[\"data_hora\"] = pd.to_datetime(vendas_df[\"data_hora\"])\n",
    "\n",
    "# Filtro de vendas no mês de outubro de 2024\n",
    "vendas_outubro = vendas_df[\n",
    "    (vendas_df[\"data_hora\"].dt.year == 2024) & \n",
    "    (vendas_df[\"data_hora\"].dt.month == 10)\n",
    "]\n",
    "\n",
    "# Mescla de dados de produtos para obter categoria e preço\n",
    "vendas_outubro = vendas_outubro.merge(\n",
    "    produtos_df[[\"id_produto\", \"categoria\", \"preco_revenda\"]],\n",
    "    on=\"id_produto\",\n",
    "    how=\"left\"\n",
    ")\n",
    "\n",
    "# Cálculo do valor total da venda por linha (qtd * preço unit.)\n",
    "vendas_outubro[\"valor_total\"] = vendas_outubro[\"quantidade\"] * vendas_outubro[\"preco_revenda\"]\n",
    "\n",
    "# Agrupamento por categoria e cálculo total vendido e número de vendas únicas\n",
    "resumo_categoria = vendas_outubro.groupby(\"categoria\").agg({\n",
    "    \"valor_total\": \"sum\",\n",
    "    \"id_venda\": \"nunique\"\n",
    "}).rename(columns={\n",
    "    \"valor_total\": \"valor_total_reais\",\n",
    "    \"id_venda\": \"quantidade_vendas_unicas\"\n",
    "})\n",
    "\n",
    "# Ordem de categorias com maior valor de vendas\n",
    "resumo_categoria = resumo_categoria.sort_values(by=\"valor_total_reais\", ascending=False)\n",
    "\n",
    "# Painel de resultados\n",
    "print(resumo_categoria)"
   ]
  }
 ],
 "metadata": {
  "kernelspec": {
   "display_name": "Python 3",
   "language": "python",
   "name": "python3"
  },
  "language_info": {
   "codemirror_mode": {
    "name": "ipython",
    "version": 3
   },
   "file_extension": ".py",
   "mimetype": "text/x-python",
   "name": "python",
   "nbconvert_exporter": "python",
   "pygments_lexer": "ipython3",
   "version": "3.13.3"
  }
 },
 "nbformat": 4,
 "nbformat_minor": 5
}
